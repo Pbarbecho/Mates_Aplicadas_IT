{
 "cells": [
  {
   "cell_type": "code",
   "execution_count": null,
   "id": "611375b5",
   "metadata": {},
   "outputs": [],
   "source": [
    "import matplotlib.pyplot as plt\n",
    "import numpy as np\n",
    "\n",
    "# Definimos la función matemática f\n",
    "def function(x,y):\n",
    "    f = x * np.exp(-x**2 - y**2)\n",
    "    return f\n",
    "\n",
    "# generamos n valores para x , y\n",
    "x = np.arange(-3.0,3.0,0.1)\n",
    "y = np.arange(-3.0,3.0,0.1)\n",
    "\n",
    "# grid of point\n",
    "X, Y = np.meshgrid(x, y)\n",
    "\n",
    "# llamamos a la función math\n",
    "f = function(X, Y)\n",
    "\n",
    "#definimos niveles a incluir en el plot\n",
    "levels = np.arange(-3, 3, 0.05)\n",
    "\n",
    "# Plot figure\n",
    "fig, ax = plt.subplots()\n",
    "ax.contour(f, levels=levels)\n",
    "ax.set_title('Campo Escalar')\n",
    "plt.show()"
   ]
  }
 ],
 "metadata": {
  "hide_input": false,
  "kernelspec": {
   "display_name": "Python 3 (ipykernel)",
   "language": "python",
   "name": "python3"
  },
  "language_info": {
   "codemirror_mode": {
    "name": "ipython",
    "version": 3
   },
   "file_extension": ".py",
   "mimetype": "text/x-python",
   "name": "python",
   "nbconvert_exporter": "python",
   "pygments_lexer": "ipython3",
   "version": "3.9.7"
  }
 },
 "nbformat": 4,
 "nbformat_minor": 5
}
